{
 "cells": [
  {
   "cell_type": "code",
   "execution_count": null,
   "id": "8366372c-5b5e-41fd-9e5a-025fe9dd694d",
   "metadata": {},
   "outputs": [],
   "source": []
  }
 ],
 "metadata": {
  "kernelspec": {
   "display_name": "",
   "name": ""
  },
  "language_info": {
   "name": ""
  }
 },
 "nbformat": 4,
 "nbformat_minor": 5
}
