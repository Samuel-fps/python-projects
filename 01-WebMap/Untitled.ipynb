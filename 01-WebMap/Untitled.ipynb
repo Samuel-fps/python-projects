{
 "cells": [
  {
   "cell_type": "code",
   "execution_count": 3,
   "id": "19900289-fa7c-406b-8016-250c5f9288c9",
   "metadata": {},
   "outputs": [],
   "source": [
    "import folium \n",
    "\n",
    "m = folium.Map(location=[40.965, -5.664])"
   ]
  },
  {
   "cell_type": "code",
   "execution_count": null,
   "id": "19db199a-98a2-4ce1-8714-24f2e07a6340",
   "metadata": {},
   "outputs": [],
   "source": []
  }
 ],
 "metadata": {
  "kernelspec": {
   "display_name": "Python 3 (ipykernel)",
   "language": "python",
   "name": "python3"
  },
  "language_info": {
   "codemirror_mode": {
    "name": "ipython",
    "version": 3
   },
   "file_extension": ".py",
   "mimetype": "text/x-python",
   "name": "python",
   "nbconvert_exporter": "python",
   "pygments_lexer": "ipython3",
   "version": "3.12.3"
  }
 },
 "nbformat": 4,
 "nbformat_minor": 5
}
