{
 "cells": [
  {
   "cell_type": "code",
   "execution_count": 2,
   "id": "19900289-fa7c-406b-8016-250c5f9288c9",
   "metadata": {},
   "outputs": [],
   "source": [
    "import folium \n",
    "\n",
    "m = folium.Map(location=[40.965, -5.664])"
   ]
  }
 ],
 "metadata": {
  "kernelspec": {
   "display_name": "Python 3 (ipykernel)",
   "language": "python",
   "name": "python3"
  },
  "language_info": {
   "codemirror_mode": {
    "name": "ipython",
    "version": 3
   },
   "file_extension": ".py",
   "mimetype": "text/x-python",
   "name": "python",
   "nbconvert_exporter": "python",
   "pygments_lexer": "ipython3",
   "version": "3.12.3"
  }
 },
 "nbformat": 4,
 "nbformat_minor": 5
}
